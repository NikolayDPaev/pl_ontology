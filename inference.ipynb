{
 "cells": [
  {
   "cell_type": "code",
   "execution_count": null,
   "metadata": {},
   "outputs": [],
   "source": [
    "from owlready2 import *\n",
    "\n",
    "%run ontology_creation_script.py"
   ]
  },
  {
   "cell_type": "code",
   "execution_count": 2,
   "metadata": {},
   "outputs": [],
   "source": [
    "onto.save(file = \"programming_languages.owl\", format = \"rdfxml\")"
   ]
  },
  {
   "cell_type": "code",
   "execution_count": null,
   "metadata": {},
   "outputs": [],
   "source": [
    "with onto:\n",
    "    sync_reasoner(debug=3)"
   ]
  },
  {
   "cell_type": "code",
   "execution_count": 4,
   "metadata": {},
   "outputs": [
    {
     "name": "stdout",
     "output_type": "stream",
     "text": [
      "[]\n"
     ]
    }
   ],
   "source": [
    "print(list(onto.inconsistent_classes()))"
   ]
  },
  {
   "cell_type": "code",
   "execution_count": 5,
   "metadata": {},
   "outputs": [
    {
     "name": "stdout",
     "output_type": "stream",
     "text": [
      "[programming_languages.StructuredLanguage, programming_languages.FunctionalInspiredLanguage, programming_languages.LogicLanguage, programming_languages.QueryLanguage, programming_languages.OOPLanguage]\n"
     ]
    }
   ],
   "source": [
    "print(onto.get_children_of(HighLevelLanguage))"
   ]
  },
  {
   "cell_type": "code",
   "execution_count": 11,
   "metadata": {},
   "outputs": [
    {
     "data": {
      "text/plain": [
       "[programming_languages.InfluencedLanguage,\n",
       " programming_languages.JVMLanguage,\n",
       " programming_languages.SafeLanguage,\n",
       " programming_languages.HasAlgebraicTypes,\n",
       " programming_languages.MultiParadigmLanguage,\n",
       " programming_languages.ImperativeLanguage,\n",
       " programming_languages.StructuredLanguage,\n",
       " programming_languages.GarbageCollectedLanguage,\n",
       " programming_languages.OOPLanguage,\n",
       " programming_languages.ConcurrentLanguage,\n",
       " programming_languages.MultiPurposeLanguage,\n",
       " programming_languages.FunctionalLanguage]"
      ]
     },
     "execution_count": 11,
     "metadata": {},
     "output_type": "execute_result"
    }
   ],
   "source": [
    "scala.is_a"
   ]
  },
  {
   "cell_type": "code",
   "execution_count": 7,
   "metadata": {},
   "outputs": [
    {
     "data": {
      "text/plain": [
       "[programming_languages.ProgrammingLanguage,\n",
       " programming_languages.FunctionalInspiredLanguage,\n",
       " programming_languages.DeclarativeLanguage]"
      ]
     },
     "execution_count": 7,
     "metadata": {},
     "output_type": "execute_result"
    }
   ],
   "source": [
    "onto.get_parents_of(FunctionalLanguage)"
   ]
  },
  {
   "cell_type": "code",
   "execution_count": 8,
   "metadata": {},
   "outputs": [],
   "source": [
    "onto.save(file = \"programming_languages_infered.owl\", format = \"rdfxml\")"
   ]
  }
 ],
 "metadata": {
  "kernelspec": {
   "display_name": "base",
   "language": "python",
   "name": "python3"
  },
  "language_info": {
   "codemirror_mode": {
    "name": "ipython",
    "version": 3
   },
   "file_extension": ".py",
   "mimetype": "text/x-python",
   "name": "python",
   "nbconvert_exporter": "python",
   "pygments_lexer": "ipython3",
   "version": "3.11.5"
  }
 },
 "nbformat": 4,
 "nbformat_minor": 2
}
